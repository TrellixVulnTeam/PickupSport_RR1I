{
 "cells": [
  {
   "cell_type": "code",
   "execution_count": 1,
   "metadata": {},
   "outputs": [],
   "source": [
    "import sqlite3"
   ]
  },
  {
   "cell_type": "code",
   "execution_count": 2,
   "metadata": {},
   "outputs": [],
   "source": [
    "db=sqlite3.connect(\"sqlite/db/eventmanagement.db\")"
   ]
  },
  {
   "cell_type": "code",
   "execution_count": 68,
   "metadata": {},
   "outputs": [],
   "source": [
    "cursor = db.cursor()\n",
    "#cursor.execute('''Create Table User(UID Int PRIMARY KEY, Name Text, DOB datetime, Email text, Phone text, Gender Text, Admin Text) ''')\n",
    "cursor.execute('''Create Table Event(EID Int PRIMARY KEY, Organizer Text, Players int, Time datetime, Venue Int, Capacity Int, Description Text)''')\n",
    "#cursor.execute('''Create Table Venue(VID Int PRIMARY KEY, EID Int, VenueCapacity Int, Description Text, Gear_Availability Int)''')\n",
    "#cursor.execute('''Create Table Gear(GID Int PRIMARY KEY, Name Int, Description Text, Price Float, VID Int)''')\n",
    "db.commit()"
   ]
  },
  {
   "cell_type": "code",
   "execution_count": 67,
   "metadata": {},
   "outputs": [],
   "source": [
    "cursor.execute('''drop Table Event''')\n",
    "db.commit()"
   ]
  },
  {
   "cell_type": "code",
   "execution_count": 69,
   "metadata": {},
   "outputs": [
    {
     "name": "stdout",
     "output_type": "stream",
     "text": [
      "('1', 'Austin FC', '0', datetime.datetime(2019, 8, 10, 18, 0), '1', '50', 'Pick up soccer')\n",
      "('2', 'Austin FC', '0', datetime.datetime(2019, 8, 17, 19, 0), '1', '11', 'Soccer Tournament')\n",
      "('3', 'Tennis Texas', '0', datetime.datetime(2019, 7, 29, 18, 0), '1', '25', 'Junior drop in organized by Tennis Texas club')\n",
      "('4', 'Tennis Texas', '0', datetime.datetime(2019, 8, 15, 17, 0), '1', '16', 'Doubles tournament')\n",
      "('5', 'Cricket Austin', '0', datetime.datetime(2019, 8, 21, 10, 0), '1', '22', 'League game')\n"
     ]
    }
   ],
   "source": [
    "import datetime\n",
    "cursor = db.cursor()\n",
    "users = [('1', 'Lionel Messi', datetime.date(1987,5,27), 'leo@barca.com', '650-123-4567', 'M', 'N'),\n",
    "        ('2', 'Rohit Sharma', datetime.date(1987,5,13), 'hitman@india.com', '991-263-5100', 'M', 'Y'),\n",
    "        ('3', 'Jofra Archer', datetime.date(1993,12,29), 'jofracher@fast.com', '145-762-1180', 'M', 'N'),\n",
    "        ('4', 'Alexandre Lacazette', datetime.date(1991,6,8), 'laca@arsenal.com', '991-263-5100', 'M', 'N'),\n",
    "        ('5', 'Ellyse Perry', datetime.date(1990,10,20), 'eperry@aussie.com', '130-267-3048', 'F', 'Y'),\n",
    "        ('6', 'Kane Williamson', datetime.date(1990,2,6), 'kanewill@kiwi.com', '500-241-2410', 'M', 'Y'),\n",
    "        ('7', 'Ben Stokes', datetime.date(1991,11,16), 'stokesy@england.com', '840-241-2411', 'M', 'N'),\n",
    "        ('8', 'Alex Morgan', datetime.date(1989,7,1), 'amorgan@usa.com', '492-363-8571', 'F', 'Y'),\n",
    "        ('9', 'Serena Williams', datetime.date(1981,9,24), 'serena@tennis.com', '565-453-4237', 'F', 'N'),\n",
    "        ('10', 'Roger Federer', datetime.date(1981,8,12), 'roger@goat.com', '200-985-6278', 'F', 'N')]\n",
    "events = [('1', 'Austin FC', '0', datetime.datetime(2019,8,10,18), '1', '50', 'Pick up soccer'),\n",
    "        ('2', 'Austin FC', '0', datetime.datetime(2019,8,17,19), '1', '11', 'Soccer Tournament'),\n",
    "        ('3', 'Tennis Texas', '0', datetime.datetime(2019,7,29,18), '1', '25', 'Junior drop in organized by Tennis Texas club'),\n",
    "        ('4', 'Tennis Texas', '0', datetime.datetime(2019,8,15,17), '1', '16', 'Doubles tournament'),\n",
    "        ('5', 'Cricket Austin', '0', datetime.datetime(2019,8,21,10), '1', '22', 'League game')]\n",
    "#print(events[0][5])\n",
    "#cursor.executemany('''INSERT INTO User Values(?,?,?,?,?,?,?)''', users)\n",
    "cursor.executemany('''INSERT INTO Event Values(?,?,?,?,?,?,?)''', events)    \n",
    "db.commit()\n",
    "#cursor.execute('''select * from Event''')\n",
    "#events = cursor.fetchall()\n",
    "for e in events:\n",
    "    print(e)\n",
    "#cursor.execute('''delete from user where UID = 2''')\n",
    "#db.commit()\n",
    "\n",
    "    "
   ]
  },
  {
   "cell_type": "raw",
   "metadata": {},
   "source": []
  }
 ],
 "metadata": {
  "kernelspec": {
   "display_name": "Python 3",
   "language": "python",
   "name": "python3"
  },
  "language_info": {
   "codemirror_mode": {
    "name": "ipython",
    "version": 3
   },
   "file_extension": ".py",
   "mimetype": "text/x-python",
   "name": "python",
   "nbconvert_exporter": "python",
   "pygments_lexer": "ipython3",
   "version": "3.7.3"
  }
 },
 "nbformat": 4,
 "nbformat_minor": 2
}
