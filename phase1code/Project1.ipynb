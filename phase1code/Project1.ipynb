{
 "cells": [
  {
   "cell_type": "code",
   "execution_count": 17,
   "metadata": {},
   "outputs": [],
   "source": [
    "import sqlite3"
   ]
  },
  {
   "cell_type": "code",
   "execution_count": 18,
   "metadata": {},
   "outputs": [],
   "source": [
    "db=sqlite3.connect(\"C:/sqlite/soccer.db\")\n",
    "cursor = db.cursor()"
   ]
  },
  {
   "cell_type": "code",
   "execution_count": 8,
   "metadata": {},
   "outputs": [],
   "source": [
    "cursor = db.cursor()\n",
    "cursor.execute('''Create Table User(UID Int indentity PRIMARY KEY, Name Text, DOB datetime, Email text, Phone text, Gender Text, Admin Text) ''')\n",
    "cursor.execute('''Create Table Event(EID Int PRIMARY KEY, Organizer Text, Players int, Time datetime, Venue Int, Capacity Int, Description Text)''')\n",
    "cursor.execute('''Create Table Venue(VID Int PRIMARY KEY, EID Int, VenueCapacity Int, Description Text, Gear_Availability Int)''')\n",
    "cursor.execute('''Create Table Gear(GID Int PRIMARY KEY, Name Int, Description Text, Price Float, VID Int)''')\n",
    "db.commit()"
   ]
  },
  {
   "cell_type": "code",
   "execution_count": 6,
   "metadata": {},
   "outputs": [],
   "source": [
    "cursor.execute('''Drop Table Gear''')\n",
    "db.commit()"
   ]
  },
  {
   "cell_type": "code",
   "execution_count": 7,
   "metadata": {},
   "outputs": [],
   "source": [
    "cursor.execute('''Drop Table Event''')\n",
    "db.commit()\n",
    "cursor.execute('''Drop Table User''')\n",
    "db.commit()\n",
    "cursor.execute('''Drop Table Venue''')\n",
    "db.commit()"
   ]
  },
  {
   "cell_type": "code",
   "execution_count": 9,
   "metadata": {},
   "outputs": [
    {
     "name": "stdout",
     "output_type": "stream",
     "text": [
      "(1, 'Lionel Messi', '1987-05-27', 'leo@barca.com', '650-123-4567', 'M', 'N')\n",
      "(2, 'Rohit Sharma', '1987-05-13', 'hitman@india.com', '991-263-5100', 'M', 'Y')\n",
      "(3, 'Jofra Archer', '1993-12-29', 'jofracher@fast.com', '145-762-1180', 'M', 'N')\n",
      "(4, 'Alexandre Lacazette', '1991-06-08', 'laca@arsenal.com', '991-263-5100', 'M', 'N')\n",
      "(5, 'Ellyse Perry', '1990-10-20', 'eperry@aussie.com', '130-267-3048', 'F', 'Y')\n",
      "(6, 'Kane Williamson', '1990-02-06', 'kanewill@kiwi.com', '500-241-2410', 'M', 'Y')\n",
      "(7, 'Ben Stokes', '1991-11-16', 'stokesy@england.com', '840-241-2411', 'M', 'N')\n",
      "(8, 'Alex Morgan', '1989-07-01', 'amorgan@usa.com', '492-363-8571', 'F', 'Y')\n",
      "(9, 'Serena Williams', '1981-09-24', 'serena@tennis.com', '565-453-4237', 'F', 'N')\n",
      "(10, 'Roger Federer', '1981-08-12', 'roger@goat.com', '200-985-6278', 'M', 'N')\n"
     ]
    }
   ],
   "source": [
    "import datetime\n",
    "cursor = db.cursor()\n",
    "users = [('1', 'Lionel Messi', datetime.date(1987,5,27), 'leo@barca.com', '650-123-4567', 'M', 'N'),\n",
    "        ('2', 'Rohit Sharma', datetime.date(1987,5,13), 'hitman@india.com', '991-263-5100', 'M', 'Y'),\n",
    "        ('3', 'Jofra Archer', datetime.date(1993,12,29), 'jofracher@fast.com', '145-762-1180', 'M', 'N'),\n",
    "        ('4', 'Alexandre Lacazette', datetime.date(1991,6,8), 'laca@arsenal.com', '991-263-5100', 'M', 'N'),\n",
    "        ('5', 'Ellyse Perry', datetime.date(1990,10,20), 'eperry@aussie.com', '130-267-3048', 'F', 'Y'),\n",
    "        ('6', 'Kane Williamson', datetime.date(1990,2,6), 'kanewill@kiwi.com', '500-241-2410', 'M', 'Y'),\n",
    "        ('7', 'Ben Stokes', datetime.date(1991,11,16), 'stokesy@england.com', '840-241-2411', 'M', 'N'),\n",
    "        ('8', 'Alex Morgan', datetime.date(1989,7,1), 'amorgan@usa.com', '492-363-8571', 'F', 'Y'),\n",
    "        ('9', 'Serena Williams', datetime.date(1981,9,24), 'serena@tennis.com', '565-453-4237', 'F', 'N'),\n",
    "        ('10', 'Roger Federer', datetime.date(1981,8,12), 'roger@goat.com', '200-985-6278', 'M', 'N')]\n",
    "cursor.executemany('''INSERT INTO User Values(?,?,?,?,?,?,?)''', users)\n",
    "db.commit()\n",
    "cursor.execute('''select * from User''')\n",
    "user = cursor.fetchall()\n",
    "for u in user:\n",
    "    print(u)"
   ]
  },
  {
   "cell_type": "code",
   "execution_count": 10,
   "metadata": {},
   "outputs": [],
   "source": [
    "events = [('1', 'Austin FC', '0', datetime.datetime(2019,8,10,18), '1', '50', 'Pick up soccer'),\n",
    "        ('2', 'Austin FC', '0', datetime.datetime(2019,8,17,19), '1', '11', 'Soccer Tournament'),\n",
    "        ('3', 'Tennis Texas', '0', datetime.datetime(2019,7,29,18), '1', '25', 'Junior drop in organized by Tennis Texas club'),\n",
    "        ('4', 'Tennis Texas', '0', datetime.datetime(2019,8,15,17), '1', '16', 'Doubles tournament'),\n",
    "        ('5', 'Cricket Austin', '0', datetime.datetime(2019,8,21,10), '1', '22', 'League game')]\n",
    "cursor.executemany('''INSERT INTO Event Values(?,?,?,?,?,?,?)''', events)\n",
    "db.commit()"
   ]
  },
  {
   "cell_type": "code",
   "execution_count": 11,
   "metadata": {},
   "outputs": [
    {
     "name": "stdout",
     "output_type": "stream",
     "text": [
      "(1, 1, 15, 'SoccerZone South Austin', 10)\n",
      "(2, 2, 12, 'SoccerZone North Austin', 13)\n",
      "(3, 3, 13, 'SoccerZone West Austin', 8)\n",
      "(4, 4, 10, 'SoccerZone East Austin', 9)\n"
     ]
    }
   ],
   "source": [
    "venuedata= [(1,1,15,\"SoccerZone South Austin\",10),\n",
    "          (2,2,12,\"SoccerZone North Austin\",13),\n",
    "           (3,3,13,\"SoccerZone West Austin\",8),\n",
    "           (4,4,10,\"SoccerZone East Austin\",9)]\n",
    "\n",
    "cursor.executemany('''INSERT INTO Venue(VID, EID, VenueCapacity, Description, Gear_Availability)\n",
    "                  VALUES(?,?,?,?,?)''', venuedata)\n",
    "db.commit()\n",
    "cursor.execute('''Select * from Venue''')\n",
    "all = cursor.fetchall()\n",
    "for v in all:\n",
    "    print(v)"
   ]
  },
  {
   "cell_type": "code",
   "execution_count": 12,
   "metadata": {},
   "outputs": [
    {
     "name": "stdout",
     "output_type": "stream",
     "text": [
      "(1, 'Goalkeeper gloves', 'The gloves is designed purely to block the ball and to permit the goalkeeper to hold and use his or her stick', 3.99, 1)\n",
      "(2, 'Soccer Cleats', 'The shoes provide traction as you run', 5.99, 2)\n",
      "(3, 'Shin Guards', \"This is a piece of equipment worn on the front of a player's shin to protect it from injury. \", 2.49, 3)\n"
     ]
    }
   ],
   "source": [
    "geardata= [(1,\"Goalkeeper gloves\",\"The gloves is designed purely to block the ball and to permit the goalkeeper to hold and use his or her stick\",3.99,1),\n",
    "          (2,\"Soccer Cleats\",\"The shoes provide traction as you run\",5.99,2),\n",
    "           (3,\"Shin Guards\",\"This is a piece of equipment worn on the front of a player's shin to protect it from injury. \",2.49,3)]\n",
    "\n",
    "cursor.executemany('''INSERT INTO Gear(GID, Name, Description, Price, VID)\n",
    "                  VALUES(?,?,?,?,?)''', geardata)\n",
    "db.commit()\n",
    "cursor.execute('''Select * from Gear''')\n",
    "all = cursor.fetchall()\n",
    "for g in all:\n",
    "    print(g)"
   ]
  },
  {
   "cell_type": "code",
   "execution_count": 3,
   "metadata": {},
   "outputs": [],
   "source": [
    "def add_user(name,dob,email,phone,gender):\n",
    "    name = input(\"Name: \")\n",
    "    dob = input(\"Data of Birth: \")\n",
    "    email = input(\"Email: \")\n",
    "    phone = input(\"Phone Number: \")\n",
    "    gender = input(\"Gender: \")\n",
    "    cursor.execute('''select * from User''')\n",
    "    size = len(cursor.fetchall())\n",
    "    cursor.execute('''INSERT INTO User(UID, Name, DOB, Email, Phone, Gender)\n",
    "                  VALUES(?,?,?,?,?,?)''',(size+1,name,dob,email,phone,gender))\n",
    "    db.commit()\n",
    "\n",
    "    \n",
    "def add_event(EID,Organizer,Players,Time,Venue,Capacity,Description):\n",
    "        cursor.execute('''INSERT INTO Event(EID, Organizer,Players,Time,Venue,Capacity,Description)\n",
    "                  VALUES(?,?,?,?,?,?,?)''',(EID, Organizer,Players,Time,Venue,Capacity,Description))\n",
    "        db.commit()\n",
    "\n",
    "\n",
    "def add_gear(GID,Name,Description,Price,VID):\n",
    "    cursor.execute('''INSERT INTO Gear(GID,Name,Description,Price,VID)\n",
    "                  VALUES(?,?,?,?,?)''',(GID,Name,Description,Price,VID))\n",
    "    db.commit()\n",
    "\n",
    "\n",
    "        \n",
    "def add_venue(VID,EID,VenueCapacity,Description,Gear_Availability):\n",
    "    cursor.execute('''INSERT INTO Venue(VID,EID,VenueCapacity,Description,Gear_Availability)\n",
    "                  VALUES(?,?,?,?,?)''',(VID,EID,VenueCapacity,Description,Gear_Availability))\n",
    "    db.commit()\n",
    "\n",
    "        \n",
    "def showtimeslot(time,venue):\n",
    "    cursor.execute('''select Time, Venue from Event where Venue = ? and Time = ?''',(venue,time,))\n",
    "    slot = cursor.fetchall()\n",
    "    for s in slot:\n",
    "        print(s)\n",
    "\n",
    "\n",
    "\n",
    "def showallvenues(time):\n",
    "    cursor.execute('''select Venue, Time, Capacity from Event where Time = ?''',(time,))\n",
    "    allvenue = cursor.fetchall()\n",
    "    for a in allvenue:\n",
    "        print(a)\n",
    "\n",
    "\n",
    "\n",
    "def removeevent(UID,EID):\n",
    "    cursor.execute('''select Admin from User where UID = ?''',(UID,))\n",
    "    iden = cursor.fetchone()\n",
    "    if iden == \"Y\":\n",
    "        cursor.execute('''delete * from Event where EID = ?''',(EID,))\n",
    "        cursor.commit()\n",
    "    else:\n",
    "        print(\"You don't have the rights to remove an event!\")\n",
    "        \n",
    "\n",
    "    \n",
    "def show_venue():\n",
    "    cursor.execute('''Select * from Venue''')\n",
    "    all = cursor.fetchall()\n",
    "    for v in all:\n",
    "        print(v)"
   ]
  },
  {
   "cell_type": "code",
   "execution_count": 77,
   "metadata": {},
   "outputs": [],
   "source": [
    "def add_event(EID,Organizer,Players,Time,Venue,Capacity,Description):\n",
    "        cursor.execute('''INSERT INTO Event(EID, Organizer,Players,Time,Venue,Capacity,Description)\n",
    "                  VALUES(?,?,?,?,?,?,?)''',(EID, Organizer,Players,Time,Venue,Capacity,Description))\n",
    "        db.commit()\n",
    "\n",
    "add_event(6, \"CricketAustin\",3,datetime.date(2010,10,3),3,24,\"Just for fun\")"
   ]
  },
  {
   "cell_type": "code",
   "execution_count": 70,
   "metadata": {},
   "outputs": [
    {
     "name": "stdout",
     "output_type": "stream",
     "text": [
      "('2019-08-17 19:00:00', 1)\n"
     ]
    }
   ],
   "source": [
    "def showtimeslot(time,venue):\n",
    "    cursor.execute('''select Time, Venue from Event where Venue = ? and Time = ?''',(venue,time,))\n",
    "    slot = cursor.fetchall()\n",
    "    size = len(slot)\n",
    "    if size == 0:\n",
    "        print(\"There is not avaliable time at your selected venue\")\n",
    "    for s in slot:\n",
    "        print(s)\n",
    "\n",
    "showtimeslot(datetime.datetime(2019,8,17,19),1)"
   ]
  },
  {
   "cell_type": "code",
   "execution_count": 69,
   "metadata": {},
   "outputs": [
    {
     "name": "stdout",
     "output_type": "stream",
     "text": [
      "Venue information at 2019-08-17 19:00:00 :\n",
      "(1, '2019-08-17 19:00:00', 11)\n",
      "\n",
      "Venue information at 2019-03-04 12:00:00 :\n",
      "There is no avaliable venues on your selected time.\n",
      "\n"
     ]
    }
   ],
   "source": [
    "def showallvenues(*args):\n",
    "    for time in args:\n",
    "        print(\"Venue information at\",(time),\":\")\n",
    "        cursor.execute('''select Venue, Time, Capacity from Event where Time = ?''',(time,))\n",
    "        allvenue = cursor.fetchall()\n",
    "        size = len(allvenue)\n",
    "        if size ==0:\n",
    "            print(\"There is no avaliable venues on your selected time.\")\n",
    "        for a in allvenue:\n",
    "            print(a)\n",
    "        print(\"\")\n",
    "\n",
    "showallvenues(datetime.datetime(2019,8,17,19),datetime.datetime(2019,3,4,12))"
   ]
  },
  {
   "cell_type": "code",
   "execution_count": 75,
   "metadata": {},
   "outputs": [],
   "source": [
    "def removeevent(UID,*args):\n",
    "    cursor.execute('''select Admin from User where UID = ?''',(UID,))\n",
    "    iden = cursor.fetchone()\n",
    "    if iden[0] == \"Y\":\n",
    "        for EID in args:\n",
    "            cursor.execute('''delete from Event where EID = ?''',(EID,))\n",
    "            db.commit()\n",
    "    else:\n",
    "        print(\"You don't have the rights to remove event(s)!\")\n",
    "    \n",
    "removeevent(2,5)"
   ]
  }
 ],
 "metadata": {
  "kernelspec": {
   "display_name": "Python 3",
   "language": "python",
   "name": "python3"
  },
  "language_info": {
   "codemirror_mode": {
    "name": "ipython",
    "version": 3
   },
   "file_extension": ".py",
   "mimetype": "text/x-python",
   "name": "python",
   "nbconvert_exporter": "python",
   "pygments_lexer": "ipython3",
   "version": "3.7.3"
  }
 },
 "nbformat": 4,
 "nbformat_minor": 2
}
