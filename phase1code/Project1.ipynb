{
 "cells": [
  {
   "cell_type": "code",
   "execution_count": 85,
   "metadata": {},
   "outputs": [],
   "source": [
    "import sqlite3"
   ]
  },
  {
   "cell_type": "code",
   "execution_count": 86,
   "metadata": {},
   "outputs": [],
   "source": [
    "db=sqlite3.connect(\"pickupsport.db\")\n",
    "cursor = db.cursor()"
   ]
  },
  {
   "cell_type": "code",
   "execution_count": 87,
   "metadata": {},
   "outputs": [],
   "source": [
    "cursor = db.cursor()\n",
    "cursor.execute('''Create Table User(UID Int indentity PRIMARY KEY, Name Text, DOB datetime, Email text, Phone text, Gender Text, Admin Text) ''')\n",
    "cursor.execute('''Create Table Event(EID Int PRIMARY KEY, Organizer Text, Players int, Time datetime, VID Int, Capacity Int, Description Text, GID Int)''')\n",
    "cursor.execute('''Create Table Venue(VID Int PRIMARY KEY, Name Text, Location Text, Description Text)''')\n",
    "cursor.execute('''Create Table Gear(GID Int PRIMARY KEY, Name Int, Description Text, Price Float)''')\n",
    "db.commit()"
   ]
  },
  {
   "cell_type": "code",
   "execution_count": 120,
   "metadata": {},
   "outputs": [
    {
     "ename": "OperationalError",
     "evalue": "database is locked",
     "output_type": "error",
     "traceback": [
      "\u001b[0;31m---------------------------------------------------------------------------\u001b[0m",
      "\u001b[0;31mOperationalError\u001b[0m                          Traceback (most recent call last)",
      "\u001b[0;32m<ipython-input-120-5f781412a60e>\u001b[0m in \u001b[0;36m<module>\u001b[0;34m\u001b[0m\n\u001b[1;32m      3\u001b[0m \u001b[0;31m#cursor.execute('''Drop Table Event''')\u001b[0m\u001b[0;34m\u001b[0m\u001b[0;34m\u001b[0m\u001b[0;34m\u001b[0m\u001b[0m\n\u001b[1;32m      4\u001b[0m \u001b[0;31m#cursor.execute('''Drop Table Venue''')\u001b[0m\u001b[0;34m\u001b[0m\u001b[0;34m\u001b[0m\u001b[0;34m\u001b[0m\u001b[0m\n\u001b[0;32m----> 5\u001b[0;31m \u001b[0mdb\u001b[0m\u001b[0;34m.\u001b[0m\u001b[0mcommit\u001b[0m\u001b[0;34m(\u001b[0m\u001b[0;34m)\u001b[0m\u001b[0;34m\u001b[0m\u001b[0;34m\u001b[0m\u001b[0m\n\u001b[0m",
      "\u001b[0;31mOperationalError\u001b[0m: database is locked"
     ]
    }
   ],
   "source": [
    "#cursor.execute('''Drop Table User''')\n",
    "#cursor.execute('''Drop Table Gear''')\n",
    "#cursor.execute('''Drop Table Event''')\n",
    "#cursor.execute('''Drop Table Venue''')\n",
    "db.commit()"
   ]
  },
  {
   "cell_type": "code",
   "execution_count": 7,
   "metadata": {},
   "outputs": [],
   "source": []
  },
  {
   "cell_type": "code",
   "execution_count": 88,
   "metadata": {},
   "outputs": [
    {
     "name": "stdout",
     "output_type": "stream",
     "text": [
      "(1, 'Lionel Messi', '1987-05-27', 'leo@barca.com', '650-123-4567', 'M', 'N')\n",
      "(2, 'Rohit Sharma', '1987-05-13', 'hitman@india.com', '991-263-5100', 'M', 'Y')\n",
      "(3, 'Jofra Archer', '1993-12-29', 'jofracher@fast.com', '145-762-1180', 'M', 'N')\n",
      "(4, 'Alexandre Lacazette', '1991-06-08', 'laca@arsenal.com', '991-263-5100', 'M', 'N')\n",
      "(5, 'Ellyse Perry', '1990-10-20', 'eperry@aussie.com', '130-267-3048', 'F', 'Y')\n",
      "(6, 'Kane Williamson', '1990-02-06', 'kanewill@kiwi.com', '500-241-2410', 'M', 'Y')\n",
      "(7, 'Ben Stokes', '1991-11-16', 'stokesy@england.com', '840-241-2411', 'M', 'N')\n",
      "(8, 'Alex Morgan', '1989-07-01', 'amorgan@usa.com', '492-363-8571', 'F', 'Y')\n",
      "(9, 'Serena Williams', '1981-09-24', 'serena@tennis.com', '565-453-4237', 'F', 'N')\n",
      "(10, 'Roger Federer', '1981-08-12', 'roger@goat.com', '200-985-6278', 'M', 'N')\n"
     ]
    }
   ],
   "source": [
    "import datetime\n",
    "cursor = db.cursor()\n",
    "users = [('1', 'Lionel Messi', datetime.date(1987,5,27), 'leo@barca.com', '650-123-4567', 'M', 'N'),\n",
    "        ('2', 'Rohit Sharma', datetime.date(1987,5,13), 'hitman@india.com', '991-263-5100', 'M', 'Y'),\n",
    "        ('3', 'Jofra Archer', datetime.date(1993,12,29), 'jofracher@fast.com', '145-762-1180', 'M', 'N'),\n",
    "        ('4', 'Alexandre Lacazette', datetime.date(1991,6,8), 'laca@arsenal.com', '991-263-5100', 'M', 'N'),\n",
    "        ('5', 'Ellyse Perry', datetime.date(1990,10,20), 'eperry@aussie.com', '130-267-3048', 'F', 'Y'),\n",
    "        ('6', 'Kane Williamson', datetime.date(1990,2,6), 'kanewill@kiwi.com', '500-241-2410', 'M', 'Y'),\n",
    "        ('7', 'Ben Stokes', datetime.date(1991,11,16), 'stokesy@england.com', '840-241-2411', 'M', 'N'),\n",
    "        ('8', 'Alex Morgan', datetime.date(1989,7,1), 'amorgan@usa.com', '492-363-8571', 'F', 'Y'),\n",
    "        ('9', 'Serena Williams', datetime.date(1981,9,24), 'serena@tennis.com', '565-453-4237', 'F', 'N'),\n",
    "        ('10', 'Roger Federer', datetime.date(1981,8,12), 'roger@goat.com', '200-985-6278', 'M', 'N')]\n",
    "cursor.executemany('''INSERT INTO User Values(?,?,?,?,?,?,?)''', users)\n",
    "db.commit()\n",
    "cursor.execute('''select * from User''')\n",
    "user = cursor.fetchall()\n",
    "for u in user:\n",
    "    print(u)"
   ]
  },
  {
   "cell_type": "code",
   "execution_count": 89,
   "metadata": {},
   "outputs": [],
   "source": [
    "events = [('1', 'Austin FC', '0', datetime.datetime(2019,8,10,18), '1', '50', 'Pick up soccer', '0'),\n",
    "        ('2', 'Austin FC', '0', datetime.datetime(2019,8,17,19), '2', '11', 'Soccer Tournament', '0'),\n",
    "        ('3', 'Tennis Texas', '0', datetime.datetime(2019,7,29,18), '3', '25', 'Junior drop in organized by Tennis Texas club', '0'),\n",
    "        ('4', 'Tennis Texas', '0', datetime.datetime(2019,8,15,17), '3', '16', 'Doubles tournament', '0'),\n",
    "        ('5', 'Cricket Austin', '0', datetime.datetime(2019,8,21,10), '4', '22', 'League game', '0')]\n",
    "cursor.executemany('''INSERT INTO Event Values(?,?,?,?,?,?,?,?)''', events)\n",
    "db.commit()"
   ]
  },
  {
   "cell_type": "code",
   "execution_count": 90,
   "metadata": {},
   "outputs": [
    {
     "name": "stdout",
     "output_type": "stream",
     "text": [
      "(1, 'SoccerZone', 'South Austin', 'Indoor soccer field')\n",
      "(2, 'SoccerZone', 'North Austin', 'Outdoor soccer field')\n",
      "(3, 'Tennis Club Austin', 'West Campus', 'Eight outdoor tennis courts')\n",
      "(4, 'CricketZone', 'East Austin', 'Giant cricket ground')\n"
     ]
    }
   ],
   "source": [
    "venuedata= [(1,\"SoccerZone\", \"South Austin\", \"Indoor soccer field\"),\n",
    "           (2,\"SoccerZone\", \"North Austin\", \"Outdoor soccer field\"),\n",
    "           (3,\"Tennis Club Austin\", \"West Campus\", \"Eight outdoor tennis courts\"),\n",
    "           (4,\"CricketZone\", \"East Austin\", \"Giant cricket ground\")]\n",
    "\n",
    "cursor.executemany('''INSERT INTO Venue VALUES(?,?,?,?)''', venuedata)\n",
    "db.commit()\n",
    "cursor.execute('''Select * from Venue''')\n",
    "all = cursor.fetchall()\n",
    "for v in all:\n",
    "    print(v)"
   ]
  },
  {
   "cell_type": "code",
   "execution_count": 91,
   "metadata": {},
   "outputs": [
    {
     "name": "stdout",
     "output_type": "stream",
     "text": [
      "(1, 'Goalkeeper gloves', 'The gloves is designed purely to block the ball and to permit the goalkeeper to hold and use his or her stick', 3.99)\n",
      "(2, 'Soccer Cleats', 'The shoes provide traction as you run', 5.99)\n",
      "(3, 'Shin Guards', \"This is a piece of equipment worn on the front of a player's shin to protect it from injury. \", 2.49)\n"
     ]
    }
   ],
   "source": [
    "geardata= [(1,\"Goalkeeper gloves\",\"The gloves is designed purely to block the ball and to permit the goalkeeper to hold and use his or her stick\",3.99),\n",
    "          (2,\"Soccer Cleats\",\"The shoes provide traction as you run\",5.99),\n",
    "           (3,\"Shin Guards\",\"This is a piece of equipment worn on the front of a player's shin to protect it from injury. \",2.49)]\n",
    "\n",
    "cursor.executemany('''INSERT INTO Gear(GID, Name, Description, Price)\n",
    "                  VALUES(?,?,?,?)''', geardata)\n",
    "db.commit()\n",
    "cursor.execute('''Select * from Gear''')\n",
    "all = cursor.fetchall()\n",
    "for g in all:\n",
    "    print(g)"
   ]
  },
  {
   "cell_type": "code",
   "execution_count": 3,
   "metadata": {},
   "outputs": [],
   "source": [
    "# Function 1: add a new User given the User information and only if the admin is adding the user\n",
    "def addUser(AccountID, name, dob, email, phone, gender, admin): # Acount ID is UID of the user trying to add a new user\n",
    "    cursor.execute('''select Admin from User where UID = ?''',(AccountID,))\n",
    "    iden = cursor.fetchone()\n",
    "    if iden[0] == \"Y\":\n",
    "        cursor.execute('''select * from User''')\n",
    "        size = len(cursor.fetchall())\n",
    "        user = (size+1,name, dob, email, phone, gender, admin)\n",
    "        cursor.execute('''INSERT INTO User VALUES(?,?,?,?,?,?,?)''', user)\n",
    "        db.commit()\n",
    "    else:\n",
    "        print(\"You don't have the rights to remove event(s)!\")\n",
    "\n",
    "# Function 2: add a new User given the User information\n",
    "def addVenue(VID,Name,Location,Description):\n",
    "    cursor.execute('''INSERT INTO Venue VALUES(?,?,?,?)''',(VID,Name,Location,Description))\n",
    "    db.commit()\n",
    "\n",
    "# Function 3: start a new Event given the Event details   \n",
    "def addEvent(EID,Organizer,Players,Time,VID,Capacity,Description,GID):\n",
    "        cursor.execute('''INSERT INTO Event VALUES(?,?,?,?,?,?,?,?)''',(EID, Organizer,Players,Time,VID,Capacity,Description,GID))\n",
    "        db.commit()\n",
    "\n",
    "# Function 4: display all timeslot available for a particular venue\n",
    "def showTimeslotByVenue(venue):\n",
    "    cursor.execute('''select Time from Event where VID = ?''',(venue,))\n",
    "    slot = cursor.fetchall()\n",
    "    for s in slot:\n",
    "        print(s)\n",
    "\n",
    "# Function 5: display all venues where a particular timeslot is available\n",
    "def showAllVenues(*args):\n",
    "    for time in args:\n",
    "        print(\"Venue information at\",(time),\":\")\n",
    "        cursor.execute('''select VID, Time, Capacity from Event where Time = ?''',(time,))\n",
    "        allvenue = cursor.fetchall()\n",
    "        size = len(allvenue)\n",
    "        if size ==0:\n",
    "            print(\"There is no avaliable venues on your selected time.\")\n",
    "        for a in allvenue:\n",
    "            print(a)\n",
    "        print(\"\")\n",
    "\n",
    "\n",
    "# Function 6: display which events are available given a timeslot and venue\n",
    "def showEventsAtVenueByTime(venue, time):\n",
    "    cursor.execute('''SELECT Event.Organizer, Event.Players, Event.Capacity, Event.Description FROM Event \n",
    "                      INNER JOIN Venue ON Event.VID = Venue.VID WHERE Event.VID = ? AND Event.Time = ? \n",
    "                      AND Event.Capacity > 0''',(venue, time))\n",
    "    eventsAtVenue = cursor.fetchall()\n",
    "    eventSize = len(eventsAtVenue)\n",
    "    if(eventSize) == 0:\n",
    "        print(\"There are no avaliable events for your selected time and venue.\")     \n",
    "    for e in eventsAtVenue:\n",
    "        print(e)\n",
    "\n",
    "#Function 7: add a user to an event by decreasing the event's capacity\n",
    "def addUserToEvent(user, event):\n",
    "    cursor.execute('''SELECT Players, Capacity FROM Event where EID = ?''',(event,))\n",
    "    eventToJoin = cursor.fetchone()\n",
    "    players = int(eventToJoin[0])\n",
    "    capacity = int(eventToJoin[1])\n",
    "    if (players < capacity):\n",
    "        print(\"User has been added\") #TODO: add more to message\n",
    "        players += 1\n",
    "        capacity -= 1\n",
    "        cursor.execute('''UPDATE Event SET Players = ?, Capacity = ? where EID = ?''', (players, capacity, event))\n",
    "        db.commit()\n",
    "    else:\n",
    "        print(\"Event full, user cannot be added\")\n",
    "\n",
    "# Function 9: remove an event only if admin is accessing the table\n",
    "def removeEvent(UID,EID):\n",
    "    cursor.execute('''select Admin from User where UID = ?''',(UID,))\n",
    "    iden = cursor.fetchone()\n",
    "    print(iden[0])\n",
    "    if iden[0] == \"Y\":\n",
    "        cursor.execute('''delete from Event where EID = ?''',(EID,))\n",
    "        db.commit()\n",
    "    else:\n",
    "        print(\"You don't have the rights to remove an event!\")\n",
    "        \n",
    "# Extra functions: \n",
    "# Function 8: show all Users in the app\n",
    "def showAllUsers():\n",
    "    cursor.execute('''select * from User''')\n",
    "    users = cursor.fetchall()\n",
    "    for u in users:\n",
    "        print(u)\n",
    "        \n",
    "# Function 10: add a new gear category\n",
    "def addGear(Name,Description,Price):\n",
    "    cursor.execute('''SELECT COUNT(*) FROM Gear''')\n",
    "    size = cursor.fetchone()\n",
    "    cursor.execute('''INSERT INTO Gear VALUES(?,?,?,?)''',(size[0]+1,Name,Description,Price))\n",
    "    db.commit()\n",
    "    \n",
    "# Function 11: add a gear type to a particular event\n",
    "def addGearToEvent(GID, EID):\n",
    "    cursor.execute('''ALTER TABLE Event ADD GID Int''')\n",
    "    cursor.execute('''UPDATE Event SET GID = ? WHERE EID = ?''',(GID,EID))\n",
    "    db.commit()"
   ]
  },
  {
   "cell_type": "code",
   "execution_count": 75,
   "metadata": {},
   "outputs": [
    {
     "name": "stdout",
     "output_type": "stream",
     "text": [
      "('Tennis Texas', 0, 25, 'Junior drop in organized by Tennis Texas club')\n"
     ]
    }
   ],
   "source": [
    "#TODO: Misc code (can delete later)\n",
    "\n",
    "#add_venue(5,5,15,\"Intramural fields\",\"3\")\n",
    "\n",
    "def showGearByEvent(event):\n",
    "    cursor.execute('''SELECT Gear.Name, Gear.Description FROM Gear \n",
    "                      INNER JOIN Venue ON Gear.VID = Venue.VID\n",
    "                      WHERE VENUE.EID = ?''',(event,))\n",
    "    gears = cursor.fetchall()\n",
    "    for g in gears:\n",
    "        print(g)\n",
    "#showGearByEvent(2)\n",
    "def showTimeslotByVenue(venue):\n",
    "    cursor.execute('''select Time from Event where VID = ?''',(venue,))\n",
    "    slot = cursor.fetchall()\n",
    "    for s in slot:\n",
    "        print(s)\n",
    "#showTimeslotByVenue(3)\n",
    "def showAllVenues(*args):\n",
    "    for time in args:\n",
    "        print(\"Venue information at\",(time),\":\")\n",
    "        cursor.execute('''select VID, Time, Capacity from Event where Time = ?''',(time,))\n",
    "        allvenue = cursor.fetchall()\n",
    "        size = len(allvenue)\n",
    "        if size ==0:\n",
    "            print(\"There is no avaliable venues on your selected time.\")\n",
    "        for a in allvenue:\n",
    "            print(a)\n",
    "        print(\"\")\n",
    "#showAllVenues(datetime.datetime(2019,7,29,18),datetime.datetime(2019,8,15,17))\n",
    "def showEventsAtVenueByTime(venue, time):\n",
    "    cursor.execute('''SELECT Event.Organizer, Event.Players, Event.Capacity, Event.Description FROM Event \n",
    "                      INNER JOIN Venue ON Event.VID = Venue.VID WHERE Event.VID = ? AND Event.Time = ? \n",
    "                      AND Event.Capacity > 0''',(venue, time))\n",
    "    eventsAtVenue = cursor.fetchall()\n",
    "    eventSize = len(eventsAtVenue)\n",
    "    if(eventSize) == 0:\n",
    "        print(\"There are no avaliable events for your selected time and venue.\")     \n",
    "    for e in eventsAtVenue:\n",
    "        print(e)\n",
    "showEventsAtVenueByTime(3,datetime.datetime(2019,7,29,18))"
   ]
  },
  {
   "cell_type": "code",
   "execution_count": 119,
   "metadata": {},
   "outputs": [
    {
     "name": "stdout",
     "output_type": "stream",
     "text": [
      "(1, 'Austin FC', 1, '2019-08-10 18:00:00', 1, 49, 'Pick up soccer', 2)\n",
      "(2, 'Austin FC', 0, '2019-08-17 19:00:00', 2, 11, 'Soccer Tournament', 1)\n",
      "(3, 'Tennis Texas', 0, '2019-07-29 18:00:00', 3, 25, 'Junior drop in organized by Tennis Texas club', 1)\n",
      "(4, 'Tennis Texas', 0, '2019-08-15 17:00:00', 3, 16, 'Doubles tournament', 1)\n",
      "(5, 'Cricket Austin', 0, '2019-08-21 10:00:00', 4, 22, 'League game', 1)\n"
     ]
    }
   ],
   "source": [
    "#cursor.execute('''UPDATE Event SET Capacity = 0 where EID = 3''')\n",
    "\n",
    "#addVenue('5','Test','tes','tes')\n",
    "def addEvent(EID,Organizer,Players,Time,VID,Capacity,Description):\n",
    "        cursor.execute('''INSERT INTO Event VALUES(?,?,?,?,?,?,?)''',(EID, Organizer,Players,Time,VID,Capacity,Description))\n",
    "        db.commit()\n",
    "#addEvent(6, \"CricketAustin\",0,datetime.date(2010,10,3),3,24,\"Just for fun\")\n",
    "import datetime\n",
    "def addUser(AccountID, name, dob, email, phone, gender, admin): # Acount ID is UID of the user trying to add a new user\n",
    "    cursor.execute('''select Admin from User where UID = ?''',(AccountID,))\n",
    "    iden = cursor.fetchone()\n",
    "    if iden[0] == \"Y\":\n",
    "        cursor.execute('''select * from User''')\n",
    "        size = len(cursor.fetchall())\n",
    "        user = (size+1,name, dob, email, phone, gender, admin)\n",
    "        cursor.execute('''INSERT INTO User VALUES(?,?,?,?,?,?,?)''', user)\n",
    "        db.commit()\n",
    "    else:\n",
    "        print(\"You don't have the rights to remove event(s)!\")\n",
    "#addUser(2,'Name',datetime.date(2000,1,1),'e','4534','N','N')\n",
    "def addUserToEvent(user, event):\n",
    "    cursor.execute('''SELECT Players, Capacity FROM Event where EID = ?''',(event,))\n",
    "    eventToJoin = cursor.fetchone()\n",
    "    players = int(eventToJoin[0])\n",
    "    capacity = int(eventToJoin[1])\n",
    "    if (players < capacity):\n",
    "        print(\"User has been added\") #TODO: add more to message\n",
    "        players += 1\n",
    "        capacity -= 1\n",
    "        cursor.execute('''UPDATE Event SET Players = ?, Capacity = ? where EID = ?''', (players, capacity, event))\n",
    "        db.commit()\n",
    "    else:\n",
    "        print(\"Event full, user cannot be added\")\n",
    "#addUserToEvent(1,1)\n",
    "def removeEvent(UID,EID):\n",
    "    cursor.execute('''select Admin from User where UID = ?''',(UID,))\n",
    "    iden = cursor.fetchone()\n",
    "    print(iden[0])\n",
    "    if iden[0] == \"Y\":\n",
    "        cursor.execute('''delete from Event where EID = ?''',(EID,))\n",
    "        db.commit()\n",
    "    else:\n",
    "        print(\"You don't have the rights to remove an event!\")\n",
    "#removeEvent(2,6)\n",
    "def addGear(Name,Description,Price):\n",
    "    cursor.execute('''SELECT COUNT(*) FROM Gear''')\n",
    "    size = cursor.fetchone()\n",
    "    cursor.execute('''INSERT INTO Gear VALUES(?,?,?,?)''',(size[0]+1,Name,Description,Price))\n",
    "    db.commit()\n",
    "#addGear('T','t','34')\n",
    "def addGearToEvent(GID, EID):\n",
    "    #cursor.execute('''ALTER TABLE Event ADD GID Int''')\n",
    "    cursor.execute('''UPDATE Event SET GID = ? WHERE EID = ?''',(GID,EID))\n",
    "addGearToEvent(2,1)\n",
    "cursor.execute('''select * from Event''')\n",
    "events = cursor.fetchall()\n",
    "for e in events:\n",
    "    print(e)\n"
   ]
  },
  {
   "cell_type": "code",
   "execution_count": 28,
   "metadata": {},
   "outputs": [
    {
     "name": "stdout",
     "output_type": "stream",
     "text": [
      "User can be added\n",
      "(1, 'Austin FC', 0, '2019-08-10 18:00:00', 1, 50, 'Pick up soccer')\n",
      "(2, 'Austin FC', 0, '2019-08-17 19:00:00', 1, 11, 'Soccer Tournament')\n",
      "(3, 'Tennis Texas', 0, '2019-07-29 18:00:00', 1, 0, 'Junior drop in organized by Tennis Texas club')\n",
      "(4, 'Tennis Texas', 1, '2019-08-15 17:00:00', 1, 15, 'Doubles tournament')\n",
      "(5, 'Cricket Austin', 0, '2019-08-21 10:00:00', 1, 22, 'League game')\n"
     ]
    }
   ],
   "source": [
    "import datetime\n",
    "def showallvenues(*args):\n",
    "    for time in args:\n",
    "        print(\"Venue information at\",(time),\":\")\n",
    "        cursor.execute('''select Venue, Time, Capacity from Event where Time = ?''',(time,))\n",
    "        allvenue = cursor.fetchall()\n",
    "        size = len(allvenue)\n",
    "        if size ==0:\n",
    "            print(\"There is no avaliable venues on your selected time.\")\n",
    "        for a in allvenue:\n",
    "            print(a)\n",
    "        print(\"\")\n",
    "\n",
    "\n",
    "def addUserToEvent(user, event):\n",
    "    cursor.execute('''SELECT Players, Capacity FROM Event where EID = ?''',(event,))\n",
    "    eventToJoin = cursor.fetchone()\n",
    "    players = int(eventToJoin[0])\n",
    "    capacity = int(eventToJoin[1])\n",
    "    if (players < capacity):\n",
    "        print(\"User can be added\")\n",
    "        players += 1\n",
    "        capacity -= 1\n",
    "        cursor.execute('''UPDATE Event SET Players = ?, Capacity = ? where EID = ?''', (players, capacity, event))\n",
    "    else:\n",
    "        print(\"Event full, user cannot be added\")\n",
    "addUserToEvent(2,4)\n",
    "cursor.execute('''select * from Event''')\n",
    "events = cursor.fetchall()\n",
    "for e in events:\n",
    "    print(e)\n",
    "        \n",
    "#showallvenues(datetime.datetime(2019,8,17,19),datetime.datetime(2019,3,4,12))"
   ]
  },
  {
   "cell_type": "code",
   "execution_count": 21,
   "metadata": {},
   "outputs": [
    {
     "name": "stdout",
     "output_type": "stream",
     "text": [
      "(1, 'Lionel Messi', '1987-05-27', 'leo@barca.com', '650-123-4567', 'M', 'N')\n",
      "(2, 'Rohit Sharma', '1987-05-13', 'hitman@india.com', '991-263-5100', 'M', 'Y')\n",
      "(3, 'Jofra Archer', '1993-12-29', 'jofracher@fast.com', '145-762-1180', 'M', 'N')\n",
      "(4, 'Alexandre Lacazette', '1991-06-08', 'laca@arsenal.com', '991-263-5100', 'M', 'N')\n",
      "(5, 'Ellyse Perry', '1990-10-20', 'eperry@aussie.com', '130-267-3048', 'F', 'Y')\n",
      "(6, 'Kane Williamson', '1990-02-06', 'kanewill@kiwi.com', '500-241-2410', 'M', 'Y')\n",
      "(7, 'Ben Stokes', '1991-11-16', 'stokesy@england.com', '840-241-2411', 'M', 'N')\n",
      "(8, 'Alex Morgan', '1989-07-01', 'amorgan@usa.com', '492-363-8571', 'F', 'Y')\n",
      "(9, 'Serena Williams', '1981-09-24', 'serena@tennis.com', '565-453-4237', 'F', 'N')\n",
      "(10, 'Roger Federer', '1981-08-12', 'roger@goat.com', '200-985-6278', 'M', 'N')\n",
      "(11, 'LeBron James', '1984-10-31', 'lebron@la.nba', '631-278-2695', 'M', 'Y')\n",
      "(12, 'Test', '1984-10-31', 'test@test', '555-555-5555', 'M', 'N')\n"
     ]
    }
   ],
   "source": [
    "def addUser(UID, name, dob, email, phone, gender, admin):\n",
    "    cursor.execute('''select Admin from User where UID = ?''',(UID,))\n",
    "    iden = cursor.fetchone()\n",
    "    if iden[0] == \"Y\":\n",
    "        cursor.execute('''select * from User''')\n",
    "        size = len(cursor.fetchall())\n",
    "        user = (size+1,name, dob, email, phone, gender, admin)\n",
    "        cursor.execute('''INSERT INTO User VALUES(?,?,?,?,?,?,?)''', user)\n",
    "    else:\n",
    "        print(\"You don't have the rights to remove event(s)!\")\n",
    "        \n",
    "#addUser('11', 'Test', datetime.date(1984,10,31), 'test@test', '555-555-5555', 'M', 'N')\n",
    "\n",
    "def showAllUsers():\n",
    "    cursor.execute('''select * from User''')\n",
    "    users = cursor.fetchall()\n",
    "    for u in users:\n",
    "        print(u)\n",
    "        \n",
    "showAllUsers()"
   ]
  },
  {
   "cell_type": "code",
   "execution_count": 75,
   "metadata": {},
   "outputs": [],
   "source": [
    "def removeevent(UID,*args):\n",
    "    cursor.execute('''select Admin from User where UID = ?''',(UID,))\n",
    "    iden = cursor.fetchone()\n",
    "    if iden[0] == \"Y\":\n",
    "        for EID in args:\n",
    "            cursor.execute('''delete from Event where EID = ?''',(EID,))\n",
    "            db.commit()\n",
    "    else:\n",
    "        print(\"You don't have the rights to remove event(s)!\")\n",
    "    \n",
    "removeevent(2,5,6)"
   ]
  }
 ],
 "metadata": {
  "kernelspec": {
   "display_name": "Python 3",
   "language": "python",
   "name": "python3"
  },
  "language_info": {
   "codemirror_mode": {
    "name": "ipython",
    "version": 3
   },
   "file_extension": ".py",
   "mimetype": "text/x-python",
   "name": "python",
   "nbconvert_exporter": "python",
   "pygments_lexer": "ipython3",
   "version": "3.7.3"
  }
 },
 "nbformat": 4,
 "nbformat_minor": 2
}
