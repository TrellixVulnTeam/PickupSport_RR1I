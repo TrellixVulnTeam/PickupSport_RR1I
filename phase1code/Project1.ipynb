{
 "cells": [
  {
   "cell_type": "code",
   "execution_count": 1,
   "metadata": {},
   "outputs": [],
   "source": [
    "import sqlite3"
   ]
  },
  {
   "cell_type": "code",
   "execution_count": 2,
   "metadata": {},
   "outputs": [],
   "source": [
    "db=sqlite3.connect(\"C:/sqlite/soccer.db\")\n",
    "cursor = db.cursor()"
   ]
  },
  {
   "cell_type": "code",
   "execution_count": 12,
   "metadata": {},
   "outputs": [],
   "source": [
    "cursor = db.cursor()\n",
    "cursor.execute('''Create Table User(UID Int indentity PRIMARY KEY, Name Text, DOB datetime, Email text, Phone text, Gender Text, Admin Text) ''')\n",
    "cursor.execute('''Create Table Event(EID Int PRIMARY KEY, Organizer Text, Players int, Status Text, Time datetime, Venue Int, Capacity Int, Description Text)''')\n",
    "cursor.execute('''Create Table Venue(VID Int PRIMARY KEY, EID Int, VenueCapacity Int, Description Text, Gear_Availability Int)''')\n",
    "cursor.execute('''Create Table Gear(GID Int PRIMARY KEY, Name Int, Description Text, Price Float, VID Int)''')\n",
    "db.commit()"
   ]
  },
  {
   "cell_type": "code",
   "execution_count": 10,
   "metadata": {},
   "outputs": [],
   "source": [
    "cursor.execute('''Drop Table Gear''')\n",
    "db.commit()"
   ]
  },
  {
   "cell_type": "code",
   "execution_count": 11,
   "metadata": {},
   "outputs": [],
   "source": [
    "cursor.execute('''Drop Table Event''')\n",
    "db.commit()\n",
    "cursor.execute('''Drop Table User''')\n",
    "db.commit()\n",
    "cursor.execute('''Drop Table Venue''')\n",
    "db.commit()"
   ]
  },
  {
   "cell_type": "code",
   "execution_count": 13,
   "metadata": {},
   "outputs": [
    {
     "name": "stdout",
     "output_type": "stream",
     "text": [
      "(1, 'Lionel Messi', '1987-05-27', 'leo@barca.com', '650-123-4567', 'M', 'N')\n",
      "(2, 'Rohit Sharma', '1987-05-13', 'hitman@india.com', '991-263-5100', 'M', 'Y')\n",
      "(3, 'Jofra Archer', '1993-12-29', 'jofracher@fast.com', '145-762-1180', 'M', 'N')\n",
      "(4, 'Alexandre Lacazette', '1991-06-08', 'laca@arsenal.com', '991-263-5100', 'M', 'N')\n",
      "(5, 'Ellyse Perry', '1990-10-20', 'eperry@aussie.com', '130-267-3048', 'F', 'Y')\n",
      "(6, 'Kane Williamson', '1990-02-06', 'kanewill@kiwi.com', '500-241-2410', 'M', 'Y')\n",
      "(7, 'Ben Stokes', '1991-11-16', 'stokesy@england.com', '840-241-2411', 'M', 'N')\n",
      "(8, 'Alex Morgan', '1989-07-01', 'amorgan@usa.com', '492-363-8571', 'F', 'Y')\n",
      "(9, 'Serena Williams', '1981-09-24', 'serena@tennis.com', '565-453-4237', 'F', 'N')\n",
      "(10, 'Roger Federer', '1981-08-12', 'roger@goat.com', '200-985-6278', 'M', 'N')\n"
     ]
    }
   ],
   "source": [
    "import datetime\n",
    "cursor = db.cursor()\n",
    "users = [('1', 'Lionel Messi', datetime.date(1987,5,27), 'leo@barca.com', '650-123-4567', 'M', 'N'),\n",
    "        ('2', 'Rohit Sharma', datetime.date(1987,5,13), 'hitman@india.com', '991-263-5100', 'M', 'Y'),\n",
    "        ('3', 'Jofra Archer', datetime.date(1993,12,29), 'jofracher@fast.com', '145-762-1180', 'M', 'N'),\n",
    "        ('4', 'Alexandre Lacazette', datetime.date(1991,6,8), 'laca@arsenal.com', '991-263-5100', 'M', 'N'),\n",
    "        ('5', 'Ellyse Perry', datetime.date(1990,10,20), 'eperry@aussie.com', '130-267-3048', 'F', 'Y'),\n",
    "        ('6', 'Kane Williamson', datetime.date(1990,2,6), 'kanewill@kiwi.com', '500-241-2410', 'M', 'Y'),\n",
    "        ('7', 'Ben Stokes', datetime.date(1991,11,16), 'stokesy@england.com', '840-241-2411', 'M', 'N'),\n",
    "        ('8', 'Alex Morgan', datetime.date(1989,7,1), 'amorgan@usa.com', '492-363-8571', 'F', 'Y'),\n",
    "        ('9', 'Serena Williams', datetime.date(1981,9,24), 'serena@tennis.com', '565-453-4237', 'F', 'N'),\n",
    "        ('10', 'Roger Federer', datetime.date(1981,8,12), 'roger@goat.com', '200-985-6278', 'M', 'N')]\n",
    "cursor.executemany('''INSERT INTO User Values(?,?,?,?,?,?,?)''', users)\n",
    "db.commit()\n",
    "cursor.execute('''select * from User''')\n",
    "user = cursor.fetchall()\n",
    "for u in user:\n",
    "    print(u)"
   ]
  },
  {
   "cell_type": "code",
   "execution_count": 9,
   "metadata": {},
   "outputs": [
    {
     "ename": "OperationalError",
     "evalue": "table Event has 8 columns but 7 values were supplied",
     "output_type": "error",
     "traceback": [
      "\u001b[1;31m---------------------------------------------------------------------------\u001b[0m",
      "\u001b[1;31mOperationalError\u001b[0m                          Traceback (most recent call last)",
      "\u001b[1;32m<ipython-input-9-e021031aec6e>\u001b[0m in \u001b[0;36m<module>\u001b[1;34m\u001b[0m\n\u001b[0;32m      4\u001b[0m         \u001b[1;33m(\u001b[0m\u001b[1;34m'4'\u001b[0m\u001b[1;33m,\u001b[0m \u001b[1;34m'Tennis Texas'\u001b[0m\u001b[1;33m,\u001b[0m \u001b[1;34m'0'\u001b[0m\u001b[1;33m,\u001b[0m \u001b[0mdatetime\u001b[0m\u001b[1;33m.\u001b[0m\u001b[0mdatetime\u001b[0m\u001b[1;33m(\u001b[0m\u001b[1;36m2019\u001b[0m\u001b[1;33m,\u001b[0m\u001b[1;36m8\u001b[0m\u001b[1;33m,\u001b[0m\u001b[1;36m15\u001b[0m\u001b[1;33m,\u001b[0m\u001b[1;36m17\u001b[0m\u001b[1;33m)\u001b[0m\u001b[1;33m,\u001b[0m \u001b[1;34m'1'\u001b[0m\u001b[1;33m,\u001b[0m \u001b[1;34m'16'\u001b[0m\u001b[1;33m,\u001b[0m \u001b[1;34m'Doubles tournament'\u001b[0m\u001b[1;33m)\u001b[0m\u001b[1;33m,\u001b[0m\u001b[1;33m\u001b[0m\u001b[1;33m\u001b[0m\u001b[0m\n\u001b[0;32m      5\u001b[0m         ('5', 'Cricket Austin', '0', datetime.datetime(2019,8,21,10), '1', '22', 'League game')]\n\u001b[1;32m----> 6\u001b[1;33m \u001b[0mcursor\u001b[0m\u001b[1;33m.\u001b[0m\u001b[0mexecutemany\u001b[0m\u001b[1;33m(\u001b[0m\u001b[1;34m'''INSERT INTO Event Values(?,?,?,?,?,?,?)'''\u001b[0m\u001b[1;33m,\u001b[0m \u001b[0mevents\u001b[0m\u001b[1;33m)\u001b[0m\u001b[1;33m\u001b[0m\u001b[1;33m\u001b[0m\u001b[0m\n\u001b[0m\u001b[0;32m      7\u001b[0m \u001b[0mdb\u001b[0m\u001b[1;33m.\u001b[0m\u001b[0mcommit\u001b[0m\u001b[1;33m(\u001b[0m\u001b[1;33m)\u001b[0m\u001b[1;33m\u001b[0m\u001b[1;33m\u001b[0m\u001b[0m\n",
      "\u001b[1;31mOperationalError\u001b[0m: table Event has 8 columns but 7 values were supplied"
     ]
    }
   ],
   "source": [
    "events = [('1', 'Austin FC', '0', datetime.datetime(2019,8,10,18), '1', '50', 'Pick up soccer'),\n",
    "        ('2', 'Austin FC', '0', datetime.datetime(2019,8,17,19), '1', '11', 'Soccer Tournament'),\n",
    "        ('3', 'Tennis Texas', '0', datetime.datetime(2019,7,29,18), '1', '25', 'Junior drop in organized by Tennis Texas club'),\n",
    "        ('4', 'Tennis Texas', '0', datetime.datetime(2019,8,15,17), '1', '16', 'Doubles tournament'),\n",
    "        ('5', 'Cricket Austin', '0', datetime.datetime(2019,8,21,10), '1', '22', 'League game')]\n",
    "cursor.executemany('''INSERT INTO Event Values(?,?,?,?,?,?,?)''', events)\n",
    "db.commit()"
   ]
  },
  {
   "cell_type": "code",
   "execution_count": 16,
   "metadata": {},
   "outputs": [
    {
     "name": "stdout",
     "output_type": "stream",
     "text": [
      "(1, 1, 15, 'SoccerZone South Austin', 10)\n",
      "(2, 2, 12, 'SoccerZone North Austin', 13)\n",
      "(3, 3, 13, 'SoccerZone West Austin', 8)\n",
      "(4, 4, 10, 'SoccerZone East Austin', 9)\n"
     ]
    }
   ],
   "source": [
    "venuedata= [(1,1,15,\"SoccerZone South Austin\",10),\n",
    "          (2,2,12,\"SoccerZone North Austin\",13),\n",
    "           (3,3,13,\"SoccerZone West Austin\",8),\n",
    "           (4,4,10,\"SoccerZone East Austin\",9)]\n",
    "\n",
    "cursor.executemany('''INSERT INTO Venue(VID, EID, VenueCapacity, Description, Gear_Availability)\n",
    "                  VALUES(?,?,?,?,?)''', venuedata)\n",
    "db.commit()\n",
    "cursor.execute('''Select * from Venue''')\n",
    "all = cursor.fetchall()\n",
    "for v in all:\n",
    "    print(v)"
   ]
  },
  {
   "cell_type": "code",
   "execution_count": 17,
   "metadata": {},
   "outputs": [
    {
     "name": "stdout",
     "output_type": "stream",
     "text": [
      "(1, 'Goalkeeper gloves', 'The gloves is designed purely to block the ball and to permit the goalkeeper to hold and use his or her stick', 3.99, 1)\n",
      "(2, 'Soccer Cleats', 'The shoes provide traction as you run', 5.99, 2)\n",
      "(3, 'Shin Guards', 'Protect legs', 2.49, 3)\n"
     ]
    }
   ],
   "source": [
    "geardata= [(1,\"Goalkeeper gloves\",\"The gloves is designed purely to block the ball and to permit the goalkeeper to hold and use his or her stick\",3.99,1),\n",
    "          (2,\"Soccer Cleats\",\"The shoes provide traction as you run\",5.99,2),\n",
    "           (3,\"Shin Guards\",\"This is a piece of equipment worn on the front of a player's shin to protect it from injury. \",2.49,3)]\n",
    "\n",
    "cursor.executemany('''INSERT INTO Gear(GID, Name, Description, Price, VID)\n",
    "                  VALUES(?,?,?,?,?)''', geardata)\n",
    "db.commit()\n",
    "cursor.execute('''Select * from Gear''')\n",
    "all = cursor.fetchall()\n",
    "for g in all:\n",
    "    print(g)"
   ]
  },
  {
   "cell_type": "code",
   "execution_count": null,
   "metadata": {},
   "outputs": [
    {
     "name": "stdout",
     "output_type": "stream",
     "text": [
      "COMMAND MENU\n",
      "Current User - Login\n",
      "New User - Sign up now\n",
      "Admin -  Login\n",
      "exit - Exit program\n",
      "\n",
      "Command: Sign\n",
      "Command: sign\n",
      "Name: dsad\n",
      "Data of Birth: dsa\n",
      "Email: dadsa\n",
      "Phone Number: dsadsa\n",
      "Gender: dsa\n"
     ]
    }
   ],
   "source": [
    "def display_menu():\n",
    "    print(\"COMMAND MENU\")\n",
    "    print(\"Current User - Login\")\n",
    "    print(\"New User - Sign up now\")\n",
    "    print(\"Admin -  Login\")\n",
    "    print(\"exit - Exit program\")\n",
    "    print()\n",
    "\n",
    "def add_user(name, dob,email,phone, gender):\n",
    "    name = input(\"Name: \")\n",
    "    dob = input(\"Data of Birth: \")\n",
    "    email = input(\"Email: \")\n",
    "    phone = input(\"Phone Number: \")\n",
    "    gender = input(\"Gender: \")\n",
    "    cursor.execute('''select * from User''')\n",
    "    size = len(cursor.fetchall())\n",
    "    cursor.execute('''INSERT INTO User(UID, Name, DOB, Email, Phone, Gender)\n",
    "                  VALUES(?,?,?,?,?,?)''',(size+1,name,dob,email,phone,gender))\n",
    "    db.commit()\n",
    "\n",
    "def show_venue():\n",
    "    cursor.execute('''Select * from Venue''')\n",
    "    all = cursor.fetchall()\n",
    "    for v in all:\n",
    "        print(v)\n",
    "        \n",
    "        \n",
    "def\n",
    "    \n",
    "def main():\n",
    "    display_menu()\n",
    "    while True:\n",
    "        command = input(\"Command: \")\n",
    "        if command == \"sign\":\n",
    "            add_user()\n",
    "        elif command == \"venue\":\n",
    "            list_venue()\n",
    "        elif command == \"q\":\n",
    "            print(\"You have quit this program and we hope to see you soon!\")\n",
    "            \n",
    "if __name__ == \"__main__\":\n",
    "    main()"
   ]
  },
  {
   "cell_type": "code",
   "execution_count": null,
   "metadata": {},
   "outputs": [],
   "source": [
    "print(\"this is hard\")\n",
    "print(\"this is not my name\")"
   ]
  }
 ],
 "metadata": {
  "kernelspec": {
   "display_name": "Python 3",
   "language": "python",
   "name": "python3"
  },
  "language_info": {
   "codemirror_mode": {
    "name": "ipython",
    "version": 3
   },
   "file_extension": ".py",
   "mimetype": "text/x-python",
   "name": "python",
   "nbconvert_exporter": "python",
   "pygments_lexer": "ipython3",
   "version": "3.7.3"
  }
 },
 "nbformat": 4,
 "nbformat_minor": 2
}
